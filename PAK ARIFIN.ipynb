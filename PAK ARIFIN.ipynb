{
 "cells": [
  {
   "cell_type": "code",
   "execution_count": null,
   "id": "18cd6692",
   "metadata": {},
   "outputs": [
    {
     "name": "stdout",
     "output_type": "stream",
     "text": [
      "Tipe data angka: <class 'int'>\n",
      "Tipe data pecahan: <class 'float'>\n",
      "Tipe data teks: <class 'str'>\n",
      "Tipe data daftar: <class 'list'>\n",
      "----------------------------------------\n"
     ]
    },
    {
     "name": "stdout",
     "output_type": "stream",
     "text": [
      "Tipe data angka: <class 'int'>\n",
      "Tipe data pecahan: <class 'float'>\n",
      "Tipe data teks: <class 'str'>\n",
      "Tipe data daftar: <class 'list'>\n",
      "----------------------------------------\n"
     ]
    }
   ],
   "source": [
    "# 1. Variabel dan Tipe Data\n",
    "angka = 10              # int\n",
    "pecahan = 3.14          # float\n",
    "teks = \"Halo Dunia\"     # str\n",
    "daftar = [1, 2, 3]      # list\n",
    "\n",
    "print(\"Tipe data angka:\", type(angka))\n",
    "print(\"Tipe data pecahan:\", type(pecahan))\n",
    "print(\"Tipe data teks:\", type(teks))\n",
    "print(\"Tipe data daftar:\", type(daftar))\n",
    "\n",
    "print(\"-\" * 40)"
   ]
  },
  {
   "cell_type": "code",
   "execution_count": null,
   "id": "d9024433",
   "metadata": {},
   "outputs": [
    {
     "name": "stdout",
     "output_type": "stream",
     "text": [
      "Daftar belanja:\n",
      "- beras\n",
      "- minyak\n",
      "- telur\n",
      "- gula\n",
      "- kopi\n",
      "----------------------------------------\n"
     ]
    }
   ],
   "source": [
    "# 2. List dan Manipulasi\n",
    "belanja = [\"beras\", \"minyak\", \"telur\"]\n",
    "\n",
    "# Tambahkan item gula dan kopi\n",
    "belanja.append(\"gula\")\n",
    "belanja.append(\"kopi\")\n",
    "\n",
    "print(\"Daftar belanja:\")\n",
    "for item in belanja:\n",
    "    print(\"-\", item)\n",
    "\n",
    "print(\"-\" * 40)"
   ]
  },
  {
   "cell_type": "code",
   "execution_count": null,
   "id": "a13b51dc",
   "metadata": {},
   "outputs": [
    {
     "name": "stdout",
     "output_type": "stream",
     "text": [
      "Total harga belanjaan: 88000\n",
      "----------------------------------------\n"
     ]
    }
   ],
   "source": [
    "# 3. Dictionary\n",
    "harga_belanja = {\n",
    "    \"beras\": 12000,\n",
    "    \"minyak\": 17000,\n",
    "    \"telur\": 24000,\n",
    "    \"gula\": 15000,\n",
    "    \"kopi\": 20000\n",
    "}\n",
    "\n",
    "# Hitung total harga\n",
    "total = sum(harga_belanja.values())\n",
    "print(\"Total harga belanjaan:\", total)\n",
    "\n",
    "print(\"-\" * 40)"
   ]
  },
  {
   "cell_type": "code",
   "execution_count": null,
   "id": "b03929a0",
   "metadata": {},
   "outputs": [
    {
     "name": "stdout",
     "output_type": "stream",
     "text": [
      "Luas lingkaran: 66051.99\n",
      "Keliling lingkaran: 911.06\n"
     ]
    }
   ],
   "source": [
    "# 4. Fungsi dan Perhitungan Lingkaran\n",
    "def hitung_lingkaran(r):\n",
    "    luas = math.pi * r * r\n",
    "    keliling = 2 * math.pi * r\n",
    "    return luas, keliling\n",
    "\n",
    "# Input dari user\n",
    "r = float(input(\"Masukkan jari-jari lingkaran: \"))\n",
    "\n",
    "luas, keliling = hitung_lingkaran(r)\n",
    "\n",
    "print(f\"Luas lingkaran: {luas:.2f}\")\n",
    "print(f\"Keliling lingkaran: {keliling:.2f}\")\n"
   ]
  },
  {
   "cell_type": "code",
   "execution_count": null,
   "id": "6056c840",
   "metadata": {},
   "outputs": [
    {
     "name": "stdout",
     "output_type": "stream",
     "text": [
      "Remaja\n"
     ]
    }
   ],
   "source": [
    "#5.\n",
    "# Program Percabangan Usia\n",
    "\n",
    "usia = int(input(\"Masukkan usia: \"))\n",
    "\n",
    "if 0 <= usia <= 13:\n",
    "    print(\"Anak\")\n",
    "elif 14 <= usia <= 24:\n",
    "    print(\"Remaja\")\n",
    "elif 25 <= usia <= 49:\n",
    "    print(\"Dewasa\")\n",
    "elif usia >= 50:\n",
    "    print(\"Lansia\")\n",
    "else:\n",
    "    print(\"Usia tidak valid\")\n"
   ]
  }
 ],
 "metadata": {
  "kernelspec": {
   "display_name": "Python 3",
   "language": "python",
   "name": "python3"
  },
  "language_info": {
   "codemirror_mode": {
    "name": "ipython",
    "version": 3
   },
   "file_extension": ".py",
   "mimetype": "text/x-python",
   "name": "python",
   "nbconvert_exporter": "python",
   "pygments_lexer": "ipython3",
   "version": "3.13.5"
  }
 },
 "nbformat": 4,
 "nbformat_minor": 5
}
